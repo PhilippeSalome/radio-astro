{
 "cells": [
  {
   "cell_type": "markdown",
   "metadata": {},
   "source": [
    "## Open SRT data and compare to convolved Archive"
   ]
  },
  {
   "cell_type": "code",
   "execution_count": 1,
   "metadata": {},
   "outputs": [],
   "source": [
    "#2: pas assez de parametres                                                                                         \n",
    "#3: mauvais parametre                                                                                               \n",
    "#3: fichier Fits introuvable                                                                                        \n",
    "#5: mauvaise lecture du fichier                                                                                     \n",
    "\n",
    "\n",
    "import numpy\n",
    "from numpy import *\n",
    "from astropy.io import fits\n",
    "import sys\n",
    "import scipy.optimize\n",
    "import numpy as np\n",
    "from matplotlib import pylab as plt\n",
    "%matplotlib notebook\n",
    "\n"
   ]
  },
  {
   "cell_type": "code",
   "execution_count": 15,
   "metadata": {},
   "outputs": [
    {
     "name": "stdout",
     "output_type": "stream",
     "text": [
      "SRT-Krakow-3m\n",
      "22\n"
     ]
    }
   ],
   "source": [
    "#creation du nom du fichier en fonction du parametre l                                                              \n",
    "path=\"../Data/SRT/fits/\"\n",
    "fileName=\"Vincent-2019:07:08:18:17:13:8-22-0-SRT-Krakow-3m.fits\"\n",
    "filename = path + fileName\n",
    "\n",
    "hdulist = fits.open(str(filename))    #lecture du fichier                                                 \n",
    "\n",
    "\n",
    "try:\n",
    "        prihdr = hdulist[0].header\n",
    "        data = hdulist[0].data          #recuperation des donnees                                                   \n",
    "        # Take the channel/velocity conversion in the header                                                        \n",
    "        # Compute rx the velocity vector                                                                            \n",
    "        freq0=prihdr['CRVAL1']    # Hz                                                                              \n",
    "        deltaf=prihdr['CDELT1']   # Hz                                                                              \n",
    "        Nchan=prihdr['NAXIS1']\n",
    "        Vlsr=prihdr['VELO-LSR']\n",
    "        nvit0=prihdr['CRPIX1']\n",
    "        frest=prihdr['RESTFREQ']\n",
    "        myLong=prihdr['CRVAL2']\n",
    "        myLat=prihdr['CRVAL3']\n",
    "        myEl=prihdr['ELEVATIO']\n",
    "        myAz=prihdr['AZIMUTH']\n",
    "        myTelescope=prihdr['TELESCOP']\n",
    "#        for key in prihdr.iterkeys():\n",
    "#            if key==\"OBSTIME\":\n",
    "#                obsTime=prihdr['OBSTIME']\n",
    "#        else:\n",
    "        obsTime=0.\n",
    "        c=299792.458 # km/s                                                                                         \n",
    "        deltavit=(-deltaf*c/(freq0))\n",
    "\n",
    "except IndexError:\n",
    "        print(\"IndexError\")\n",
    "        exit(5)\n",
    "\n",
    "print(myTelescope)\n",
    "print(myLong)\n",
    "rx=np.zeros(Nchan,float)\n",
    "rx2=np.zeros(Nchan,float)\n",
    "ry=data\n",
    "\n",
    "for i in range(Nchan):\n",
    "    #rx[i]=-nvit0*deltavit+i*deltavit                                                                               \n",
    "    rx[i]=-nvit0*deltavit+i*deltavit-Vlsr\n",
    "\n",
    "\n",
    "freq0=freq0/1.e6\n",
    "frest=frest/1.e6\n",
    "deltaf=deltaf/1.e6\n",
    "deltaV=-deltaf*c/(frest)\n",
    "Nchan0=int(Nchan/2.)\n",
    "velo=np.zeros(Nchan,float)\n",
    "Voffset=((frest-freq0)/frest)*c\n",
    "for j in range(Nchan):\n",
    "        rx[j]=-Nchan0*deltaV+j*deltaV+Voffset-Vlsr\n",
    "        rx2[j]=-Nchan0*deltaf+j*deltaf+freq0\n",
    "        \n",
    "        \n",
    "if(myLong < 0 or myLong > 360):\n",
    "        myLong = myLong % 360\n",
    "if(myLat < -90 or myLat > 90):\n",
    "        myLat = myLat % 90\n",
    "\n",
    "sigma=7./(8.*log(2))**0.5\n",
    "w=0.\n",
    "\n",
    "#path = \"../\"\n",
    "\n",
    "\n"
   ]
  },
  {
   "cell_type": "code",
   "execution_count": 7,
   "metadata": {},
   "outputs": [],
   "source": [
    "if myTelescope == \"SRT-Paris-2m\":\n",
    "        data[120:131]=data[138]\n",
    "        data[105:108]=data[138]\n",
    "        print(\"Flag Parasite Paris2m\")\n",
    "\n",
    "\n",
    "if myTelescope == \"SRT-Paris-3m\":\n",
    "        data[120:131]=data[138]\n",
    "        data[105:108]=data[138]\n",
    "        print(\"Flag Parasite Paris3m\")\n",
    "\n",
    "\n"
   ]
  },
  {
   "cell_type": "code",
   "execution_count": 8,
   "metadata": {},
   "outputs": [
    {
     "data": {
      "text/plain": [
       "[<matplotlib.lines.Line2D at 0x1020b1fb38>]"
      ]
     },
     "execution_count": 8,
     "metadata": {},
     "output_type": "execute_result"
    },
    {
     "data": {
      "image/png": "[encoded data removed]",
      "text/plain": [
       "<Figure size 432x288 with 1 Axes>"
      ]
     },
     "metadata": {
      "needs_background": "light"
     },
     "output_type": "display_data"
    }
   ],
   "source": [
    "plt.plot(rx, data)"
   ]
  },
  {
   "cell_type": "code",
   "execution_count": 11,
   "metadata": {},
   "outputs": [],
   "source": [
    "spectra=np.zeros(893,float)\n",
    "for i in range(5):\n",
    "    myfile=(int(float(myLong)-i))\n",
    "\n",
    "    filename = \"../Data/FitsBD/L\"+ '{0:03d}'.format(myfile) +\"0.fits\"\n",
    "\n",
    "    try:\n",
    "        hdulist = fits.open(str(filename))    #lecture du fichier                                                \\\n",
    "                                                                                                                    \n",
    "    except IOError:\n",
    "        exit(4)\n",
    "\n",
    "#    print(hdulist[0].header)\n",
    "#    print((hdulist[0].data[0]))\n",
    "\n",
    "\n",
    "\n",
    "    for j in range(10):\n",
    "        jlat=int(2.*(90+myLat)-j)\n",
    "        LABdata = hdulist[0].data[0][jlat]\n",
    "        spectra=spectra+LABdata*exp(-float(i)**2/2./sigma**2)*exp(-float(j/2.)**2/2./sigma**2)\n",
    "        w=w+exp(-float(i)**2/2./sigma**2)*exp(-float(j/2.)**2/2./sigma**2)\n",
    "    for j in range(1,10):\n",
    "        jlat=int(2.*(90+myLat)+j)\n",
    "        LABdata = hdulist[0].data[0][jlat]\n",
    "        spectra=spectra+LABdata*exp(-float(i)**2/2./sigma**2)*exp(-float(j/2.)**2/2./sigma**2)\n",
    "        w=w+exp(-float(i)**2/2./sigma**2)*exp(-float(j/2.)**2/2./sigma**2)\n",
    "\n",
    "\n",
    "for i in range(1,5):\n",
    "    myfile=(int(float(myLong)+i))\n",
    "\n",
    "    filename = \"../Data/FitsBD/L\"+ '{0:03d}'.format(myfile) +\"0.fits\"\n",
    "\n",
    "    try:\n",
    "        hdulist = fits.open(str(filename))    #lecture du fichier                                                \\\n",
    "                                                                                                                    \n",
    "    except IOError:\n",
    "        exit(4)\n",
    "\n",
    "    for j in range(1,10):\n",
    "        jlat=int(2.*(90+myLat)-j)\n",
    "        LABdata = hdulist[0].data[0][jlat]\n",
    "        spectra=spectra+LABdata*exp(-float(i)**2/2./sigma**2)*exp(-float(j/2.)**2/2./sigma**2)\n",
    "        w=w+exp(-float(i)**2/2./sigma**2)*exp(-float(j/2.)**2/2./sigma**2)\n",
    "    for j in range(1,10):\n",
    "        jlat=int(2.*(90+myLat)+j)\n",
    "        LABdata = hdulist[0].data[0][jlat]\n",
    "        spectra=spectra+LABdata*exp(-float(i)**2/2./sigma**2)*exp(-float(j/2.)**2/2./sigma**2)\n",
    "        w=w+exp(-float(i)**2/2./sigma**2)*exp(-float(j/2.)**2/2./sigma**2)\n",
    "\n",
    "\n",
    "maxSpectra = max(spectra[306:557])/w\n",
    "data = 1.0*data/max(data)*maxSpectra"
   ]
  },
  {
   "cell_type": "code",
   "execution_count": 14,
   "metadata": {},
   "outputs": [
    {
     "data": {
      "text/plain": [
       "[<matplotlib.lines.Line2D at 0x1021849a58>]"
      ]
     },
     "execution_count": 14,
     "metadata": {},
     "output_type": "execute_result"
    },
    {
     "data": {
      "image/png": "[encoded data removed]",
      "text/plain": [
       "<Figure size 432x288 with 1 Axes>"
      ]
     },
     "metadata": {
      "needs_background": "light"
     },
     "output_type": "display_data"
    }
   ],
   "source": [
    "plt.plot(LABdata)"
   ]
  },
  {
   "cell_type": "code",
   "execution_count": null,
   "metadata": {
    "collapsed": true
   },
   "outputs": [],
   "source": []
  },
  {
   "cell_type": "code",
   "execution_count": null,
   "metadata": {
    "collapsed": true
   },
   "outputs": [],
   "source": []
  }
 ],
 "metadata": {
  "kernelspec": {
   "display_name": "Python 3",
   "language": "python",
   "name": "python3"
  },
  "language_info": {
   "codemirror_mode": {
    "name": "ipython",
    "version": 3
   },
   "file_extension": ".py",
   "mimetype": "text/x-python",
   "name": "python",
   "nbconvert_exporter": "python",
   "pygments_lexer": "ipython3",
   "version": "3.6.8"
  }
 },
 "nbformat": 4,
 "nbformat_minor": 2
}
