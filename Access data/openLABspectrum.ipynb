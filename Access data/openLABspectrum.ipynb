{
 "cells": [
  {
   "cell_type": "markdown",
   "metadata": {},
   "source": [
    "## Open LAB spectra"
   ]
  },
  {
   "cell_type": "code",
   "execution_count": 20,
   "metadata": {},
   "outputs": [
    {
     "data": {
      "image/png": "[encoded data removed]",
      "text/plain": [
       "<Figure size 432x288 with 1 Axes>"
      ]
     },
     "metadata": {
      "needs_background": "light"
     },
     "output_type": "display_data"
    }
   ],
   "source": [
    "# Use:           File.rad                                                                                           \n",
    "# python view.py gala105-2                                                                                          \n",
    "# Display all the spectra in one plot with subplots                                                                 \n",
    "\n",
    "from matplotlib import pylab as plt\n",
    "from matplotlib.pylab import *\n",
    "from tools import *\n",
    "\n",
    "# Choose the (Long, Lat) to extract the spectrum\n",
    "myLong=22\n",
    "myLat=0\n",
    "\n",
    "\n",
    "iLat=2*(myLat+90)\n",
    "\n",
    "spectra=np.zeros(893,float)\n",
    "myfile=(int(float(myLong)))\n",
    "filename = \"../Data/FitsBD/L\"+ '{0:03d}'.format(myfile) +\"0.fits\"\n",
    "try:\n",
    "    hdulist = fits.open(str(filename))    #lecture du fichier                                                \\                                                                                                             \n",
    "except IOError:\n",
    "    exit(4)\n",
    "    \n",
    "LABdata = hdulist[0].data[0][iLat]\n",
    "\n",
    "crval1=hdulist[0].header['CRVAL1']\n",
    "cdelt1=hdulist[0].header['CDELT1']\n",
    "crpix1=hdulist[0].header['CRPIX1']\n",
    "\n",
    "\n",
    "xdata=(crval1+(np.arange(893)-crpix1)*cdelt1)/1000.\n",
    "\n",
    "plt.plot(xdata,LABdata)\n",
    "plt.show()\n",
    "\n"
   ]
  },
  {
   "cell_type": "code",
   "execution_count": 15,
   "metadata": {},
   "outputs": [
    {
     "data": {
      "text/plain": [
       "SIMPLE  =                    T / file does conform to FITS standard             \n",
       "BITPIX  =                  -32 / number of bits per data pixel                  \n",
       "NAXIS   =                    3 / number of data axes                            \n",
       "NAXIS1  =                  893 / length of data axis 1                          \n",
       "NAXIS2  =                  361 / length of data axis 2                          \n",
       "NAXIS3  =                    1 / length of data axis 3                          \n",
       "COMMENT   FITS (Flexible Image Transport System) format is defined in 'Astronomy\n",
       "COMMENT   and Astrophysics', volume 376, page 359; bibcode: 2001A&A...376..359H \n",
       "CTYPE1  = 'VELO-LSR'           / axis type                                      \n",
       "CRVAL1  =   0.000000000000E+00 / velocity                                       \n",
       "CRPIX1  =                  446 / ref pixel                                      \n",
       "CDELT1  =   1.030571969000E+03 / velocity increment                             \n",
       "CROTA1  =   0.000000000000E+00 / velocity rotation                              \n",
       "CUNIT1  = 'M/S     '           / unit type                                      \n",
       "CTYPE2  = 'GLAT-CAR'           / axis type                                      \n",
       "CRVAL2  =  -9.000000000000E+01 / latitude                                       \n",
       "CRPIX2  =                    1 / ref pixel                                      \n",
       "CDELT2  =   5.000000000000E-01 / longitude increment                            \n",
       "CROTA2  =   0.000000000000E+00 / latitude rotation                              \n",
       "CUNIT2  = 'DEG     '           / unit type                                      \n",
       "CTYPE3  = 'GLON-CAR'           / axis type                                      \n",
       "CRVAL3  =   2.200000032783E+01 / longitude                                      \n",
       "CRPIX3  =                    1                                                  \n",
       "CDELT3  =   0.000000000000E+00                                                  \n",
       "CROTA3  =   0.000000000000E+00                                                  \n",
       "CUNIT3  = 'DEG     '           / unit type                                      \n",
       "BUNIT   = 'K       '           / map units                                      \n",
       "OBSTYP  = 'LINE    '           / type of observation                            \n",
       "FREQ0   =   1.420405752000E+09 / rest frequency in Hz                           \n",
       "RESTFREQ=   1.420405752000E+09 / rest frequency in Hz                           \n",
       "DATAMIN =  -5.525000000000E-01 / map minimum                                    \n",
       "COMMENT absorption features truncated at -10.0 K                                \n",
       "DATAMAX =   9.872000000000E+01 / map maximum                                    \n",
       "COMMENT -------------------------------------------------------------           \n",
       "OBJECT  = 'Leiden/Argentine/Bonn Galactic HI Survey; (b,v) at l= 22.0'          \n",
       "COMMENT -------------------------------------------------------------           \n",
       "TELESCOP= 'Dwingeloo - Villa Elisa' / telescopes                                \n",
       "COMMENT The Dwingeloo 25-m telescope was used for DEC > -27 deg,                \n",
       "COMMENT the Villa Elisa 30-m telescope for DEC < -25 deg.                       \n",
       "COMMENT The beam FWHM for the 25-m telescope is 35.7 arcmin,                    \n",
       "COMMENT the beam FWHM for the 30-m telescope is 30.0 arcmin.                    \n",
       "COMMENT Regridding was by Gaussian interpolation (18 arcmin),                   \n",
       "COMMENT leading to the following effective resolution (FWHM):                   \n",
       "COMMENT 40 arcmin for DEC > -27 deg, 35 arcmin for DEC < -25 deg                \n",
       "COMMENT 37.5 arcmin for -27 < DEC < -25 deg (overlap)                           \n",
       "COMMENT Note: the grid of 30 arcmin violates Nyquist sampling                   \n",
       "DATE    = '2004-12-09'         / final data release                             \n",
       "REFERENC= 'Kalberla et al. (2005) A&A 440, 775' / see also below                \n",
       "COMMENT The reference to Kalberla, P.M.W., Burton, W.B., Hartmann,              \n",
       "COMMENT Dap, Arnal, E.M., Bajaja, E., Morras, R., and  P\\\"oppel, W.G.L.         \n",
       "COMMENT (2005) A&A 440, 775 describes the merger of the                         \n",
       "COMMENT northern (dec > -27) HI survey of Hartmann & Burton (1997)              \n",
       "COMMENT made with the Dwingeloo 25-meter telescope with the                     \n",
       "COMMENT southern (dec < -25) survey of Bajaja et al. (2005)                     \n",
       "COMMENT made with the IAR 30-meter telescope, as well as refined                \n",
       "COMMENT corrections for stray radiation possible because of the                 \n",
       "COMMENT availability of the all-sky coverage.                                   \n",
       "COMMENT Depending on the region of the sky being studied, please                \n",
       "COMMENT cite, in addition to the Kalberla et al. (2005) reference,              \n",
       "COMMENT also the appropriate source of the material used, namely                \n",
       "COMMENT Hartmann & Burton (1997, Cambridge University Press, ISBN 0521471117)   \n",
       "COMMENT and/or Arnal et al. (2000), A&AS, 142, 35,                              \n",
       "COMMENT Bajaja et al. (2005, A&A 440, 767)                                      \n",
       "COMMENT Observers were Dap Hartmann and W.B. Burton (Leiden University),        \n",
       "COMMENT for the Dwingeloo telescope, and E.M. Arnal, E. Bajaja, J.J.            \n",
       "COMMENT Larrarte, R. Morras, & W.G.L. Poeppel (Argentine Institute for          \n",
       "COMMENT Radio Astronomy), for the Villa Elisa telescope.                        \n",
       "COMMENT Correction for stray radiation and combination of the data              \n",
       "COMMENT by P.M.W. Kalberla (Bonn University).                                   \n",
       "                                                                                \n",
       "                                                                                "
      ]
     },
     "execution_count": 15,
     "metadata": {},
     "output_type": "execute_result"
    }
   ],
   "source": [
    "prihdr = hdulist[0].header\n",
    "prihdr"
   ]
  },
  {
   "cell_type": "code",
   "execution_count": 16,
   "metadata": {},
   "outputs": [],
   "source": [
    "LABdata = hdulist[0].data[0]"
   ]
  },
  {
   "cell_type": "code",
   "execution_count": 18,
   "metadata": {},
   "outputs": [
    {
     "data": {
      "text/plain": [
       "361"
      ]
     },
     "execution_count": 18,
     "metadata": {},
     "output_type": "execute_result"
    }
   ],
   "source": [
    "len(LABdata)"
   ]
  },
  {
   "cell_type": "code",
   "execution_count": 19,
   "metadata": {},
   "outputs": [
    {
     "data": {
      "text/plain": [
       "90.0"
      ]
     },
     "execution_count": 19,
     "metadata": {},
     "output_type": "execute_result"
    }
   ],
   "source": [
    "180/2."
   ]
  },
  {
   "cell_type": "code",
   "execution_count": null,
   "metadata": {},
   "outputs": [],
   "source": []
  }
 ],
 "metadata": {
  "kernelspec": {
   "display_name": "Python 3",
   "language": "python",
   "name": "python3"
  },
  "language_info": {
   "codemirror_mode": {
    "name": "ipython",
    "version": 3
   },
   "file_extension": ".py",
   "mimetype": "text/x-python",
   "name": "python",
   "nbconvert_exporter": "python",
   "pygments_lexer": "ipython3",
   "version": "3.6.8"
  }
 },
 "nbformat": 4,
 "nbformat_minor": 2
}
