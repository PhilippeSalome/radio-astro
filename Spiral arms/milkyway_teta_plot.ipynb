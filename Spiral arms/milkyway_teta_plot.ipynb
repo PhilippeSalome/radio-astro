{
 "cells": [
  {
   "cell_type": "code",
   "execution_count": null,
   "metadata": {},
   "outputs": [],
   "source": [
    "from main_functions import *\n",
    "from astropy.io import fits\n",
    "\n",
    "#warnings.filterwarnings('ignore')\n",
    "%matplotlib inline\n",
    "\n",
    "#\n",
    "hdulist=fits.open(\"../Data/lab.fit\")\n",
    "prihdr=hdulist[0].header\n",
    "data2=hdulist[0].data\n",
    "#\n",
    "rmin=-40. #borne inferieure de l'intervalle sur l'axe des abscisses\n",
    "rmax=40. #borne superieure\n",
    "rincr=0.3 #pas sur l'axe des abscisses\n",
    "zmin=-12. #borne inferieure de l'intervalle sur l'axe des ordonnees\n",
    "zmax=12. #borne superieure\n",
    "zincr=0.3 #pas sur l'axe des ordonnees\n",
    "TETA=130. #valeur de l'angle auquel on regarde\n",
    "dV=1.\n",
    "#\n",
    "r1=arange(rmin,0.001,rincr)\n",
    "r2=arange(0.,rmax+0.001,rincr)\n",
    "z=arange(zmin,zmax+0.001,zincr)\n",
    "R1,Z = np.meshgrid(r1,z)\n",
    "R2,Z = np.meshgrid(r2,z)\n",
    "#\n",
    "A,B=milkyway_teta(rmin,rmax,rincr,TETA,zmin,zmax,zincr,dV,data2,prihdr) #appel de la fonction qui donne le plot dans un plan orthogonal a l'axe des TETA\n",
    "#\n",
    "plt.figure(1,figsize=(14,11))\n",
    "a=plt.pcolormesh(R1,Z,A,vmin=-4,vmax=-2, cmap='gist_ncar') # si on ne veut pas d'interpolation\n",
    "plt.pcolormesh(R2,Z,B,vmin=-4,vmax=-2, cmap='gist_ncar')\n",
    "#plt.figure(0)\n",
    "#a=plt.imshow(A, interpolation='bicubic', origin='lower', extent=[rmin,0,zmin,zmax],vmin=-4,vmax=-2) # plot avec interpolation\n",
    "#plt.figure(1)\n",
    "#b=plt.imshow(B, interpolation='bicubic', origin='lower', extent=[0,rmax,zmin,zmax],vmin=-4,vmax=-2)\n",
    "plt.xlabel('R [kpc]')\n",
    "plt.ylabel('Z [kpc]')\n",
    "plt.ylim(zmin,zmax)\n",
    "plt.xlim(rmin,rmax)\n",
    "plt.title('Distribution en temperature de HI pour un angle Teta='+str(TETA-180)+' et Teta='+str(TETA)+' fixes')\n",
    "plt.colorbar(a)\n",
    "#plt.colorbar(b)\n",
    "plt.show() "
   ]
  },
  {
   "cell_type": "code",
   "execution_count": null,
   "metadata": {
    "collapsed": true
   },
   "outputs": [],
   "source": []
  }
 ],
 "metadata": {
  "kernelspec": {
   "display_name": "Python 3",
   "language": "python",
   "name": "python3"
  },
  "language_info": {
   "codemirror_mode": {
    "name": "ipython",
    "version": 3
   },
   "file_extension": ".py",
   "mimetype": "text/x-python",
   "name": "python",
   "nbconvert_exporter": "python",
   "pygments_lexer": "ipython3",
   "version": "3.6.8"
  }
 },
 "nbformat": 4,
 "nbformat_minor": 1
}
